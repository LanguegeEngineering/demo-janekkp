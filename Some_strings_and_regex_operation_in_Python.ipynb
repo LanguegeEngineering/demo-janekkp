{
  "nbformat": 4,
  "nbformat_minor": 0,
  "metadata": {
    "colab": {
      "name": "Some_strings_and_regex_operation_in_Python.ipynb",
      "provenance": []
    },
    "kernelspec": {
      "name": "python3",
      "display_name": "Python 3"
    }
  },
  "cells": [
    {
      "cell_type": "markdown",
      "metadata": {
        "id": "Nn885eRyu7ND",
        "colab_type": "text"
      },
      "source": [
        "### Easy string manipulation"
      ]
    },
    {
      "cell_type": "code",
      "metadata": {
        "id": "7CPBUMfm7Ljn",
        "colab_type": "code",
        "colab": {
          "base_uri": "https://localhost:8080/",
          "height": 34
        },
        "outputId": "cb1a564d-aa5c-4702-a3e7-2539adbaae78"
      },
      "source": [
        "x = 'a string'\n",
        "y = \"a string\"\n",
        "if x == y:\n",
        "    print(\"they are the same\")"
      ],
      "execution_count": 1,
      "outputs": [
        {
          "output_type": "stream",
          "text": [
            "they are the same\n"
          ],
          "name": "stdout"
        }
      ]
    },
    {
      "cell_type": "code",
      "metadata": {
        "id": "Ani3HhQk7LkF",
        "colab_type": "code",
        "colab": {}
      },
      "source": [
        "fox = \"tHe qUICk bROWn fOx.\""
      ],
      "execution_count": 0,
      "outputs": []
    },
    {
      "cell_type": "markdown",
      "metadata": {
        "id": "Lr1xNTks7LkN",
        "colab_type": "text"
      },
      "source": [
        "To convert the entire string into upper-case or lower-case, you can use the ``upper()`` or ``lower()`` methods respectively:"
      ]
    },
    {
      "cell_type": "code",
      "metadata": {
        "id": "hLEjP_-r7LkP",
        "colab_type": "code",
        "colab": {
          "base_uri": "https://localhost:8080/",
          "height": 34
        },
        "outputId": "1409072d-3602-4fb0-8640-e0f2f4c5fc4b"
      },
      "source": [
        "fox.upper()"
      ],
      "execution_count": 3,
      "outputs": [
        {
          "output_type": "execute_result",
          "data": {
            "text/plain": [
              "'THE QUICK BROWN FOX.'"
            ]
          },
          "metadata": {
            "tags": []
          },
          "execution_count": 3
        }
      ]
    },
    {
      "cell_type": "code",
      "metadata": {
        "id": "J_sWSEtc7LkV",
        "colab_type": "code",
        "colab": {
          "base_uri": "https://localhost:8080/",
          "height": 34
        },
        "outputId": "6eb4f29d-271f-48b9-e7a9-f1510e9c14ba"
      },
      "source": [
        "fox.lower()"
      ],
      "execution_count": 4,
      "outputs": [
        {
          "output_type": "execute_result",
          "data": {
            "text/plain": [
              "'the quick brown fox.'"
            ]
          },
          "metadata": {
            "tags": []
          },
          "execution_count": 4
        }
      ]
    },
    {
      "cell_type": "markdown",
      "metadata": {
        "id": "gDJiQgTK7LkZ",
        "colab_type": "text"
      },
      "source": [
        "A common formatting need is to capitalize just the first letter of each word, or perhaps the first letter of each sentence.\n",
        "This can be done with the ``title()`` and ``capitalize()`` methods:"
      ]
    },
    {
      "cell_type": "code",
      "metadata": {
        "id": "-VFGL3Hr7Lka",
        "colab_type": "code",
        "colab": {
          "base_uri": "https://localhost:8080/",
          "height": 34
        },
        "outputId": "9633bfd3-e13e-4a34-86b6-1640ec4565d1"
      },
      "source": [
        "fox.title()"
      ],
      "execution_count": 5,
      "outputs": [
        {
          "output_type": "execute_result",
          "data": {
            "text/plain": [
              "'The Quick Brown Fox.'"
            ]
          },
          "metadata": {
            "tags": []
          },
          "execution_count": 5
        }
      ]
    },
    {
      "cell_type": "code",
      "metadata": {
        "id": "cV3ghJce7Lkr",
        "colab_type": "code",
        "colab": {
          "base_uri": "https://localhost:8080/",
          "height": 34
        },
        "outputId": "51a3bd73-6deb-4762-a658-c9b6957fd5a3"
      },
      "source": [
        "fox.capitalize()"
      ],
      "execution_count": 6,
      "outputs": [
        {
          "output_type": "execute_result",
          "data": {
            "text/plain": [
              "'The quick brown fox.'"
            ]
          },
          "metadata": {
            "tags": []
          },
          "execution_count": 6
        }
      ]
    },
    {
      "cell_type": "markdown",
      "metadata": {
        "id": "2CjcAH_47Lkw",
        "colab_type": "text"
      },
      "source": [
        "The cases can be swapped using the ``swapcase()`` method:"
      ]
    },
    {
      "cell_type": "code",
      "metadata": {
        "id": "9VqNWnnG7Lkx",
        "colab_type": "code",
        "colab": {
          "base_uri": "https://localhost:8080/",
          "height": 34
        },
        "outputId": "a4cac7f2-dc2b-494a-e8c3-fcbd6492f6a9"
      },
      "source": [
        "fox.swapcase()"
      ],
      "execution_count": 7,
      "outputs": [
        {
          "output_type": "execute_result",
          "data": {
            "text/plain": [
              "'ThE QuicK BrowN FoX.'"
            ]
          },
          "metadata": {
            "tags": []
          },
          "execution_count": 7
        }
      ]
    },
    {
      "cell_type": "code",
      "metadata": {
        "id": "VXnRg_RV7Lk8",
        "colab_type": "code",
        "colab": {
          "base_uri": "https://localhost:8080/",
          "height": 34
        },
        "outputId": "55d50814-7b10-47d4-abf8-04765e0d7c67"
      },
      "source": [
        "line = '         this is the content         '\n",
        "line.strip()"
      ],
      "execution_count": 8,
      "outputs": [
        {
          "output_type": "execute_result",
          "data": {
            "text/plain": [
              "'this is the content'"
            ]
          },
          "metadata": {
            "tags": []
          },
          "execution_count": 8
        }
      ]
    },
    {
      "cell_type": "markdown",
      "metadata": {
        "id": "JGI2dfcr7LlA",
        "colab_type": "text"
      },
      "source": [
        "To remove just space to the right or left, use ``rstrip()`` or ``lstrip()`` respectively:"
      ]
    },
    {
      "cell_type": "code",
      "metadata": {
        "id": "wNtxgkpd7LlC",
        "colab_type": "code",
        "colab": {
          "base_uri": "https://localhost:8080/",
          "height": 34
        },
        "outputId": "67931d16-147e-4aaf-d0a6-b6a46802308b"
      },
      "source": [
        "line.rstrip()"
      ],
      "execution_count": 9,
      "outputs": [
        {
          "output_type": "execute_result",
          "data": {
            "text/plain": [
              "'         this is the content'"
            ]
          },
          "metadata": {
            "tags": []
          },
          "execution_count": 9
        }
      ]
    },
    {
      "cell_type": "code",
      "metadata": {
        "id": "mqAp9fhT7LlH",
        "colab_type": "code",
        "colab": {
          "base_uri": "https://localhost:8080/",
          "height": 34
        },
        "outputId": "4ee99805-97ad-43fa-ccf5-c4e9532b8997"
      },
      "source": [
        "line.lstrip()"
      ],
      "execution_count": 10,
      "outputs": [
        {
          "output_type": "execute_result",
          "data": {
            "text/plain": [
              "'this is the content         '"
            ]
          },
          "metadata": {
            "tags": []
          },
          "execution_count": 10
        }
      ]
    },
    {
      "cell_type": "markdown",
      "metadata": {
        "id": "0Y1XeOHR7LlK",
        "colab_type": "text"
      },
      "source": [
        "To remove characters other than spaces, you can pass the desired character to the ``strip()`` method:"
      ]
    },
    {
      "cell_type": "code",
      "metadata": {
        "id": "4ZoSwbiO7LlL",
        "colab_type": "code",
        "colab": {
          "base_uri": "https://localhost:8080/",
          "height": 34
        },
        "outputId": "54209883-bfde-4572-c531-d3bdb9d91cda"
      },
      "source": [
        "num = \"000000000000435\"\n",
        "num.strip('0')"
      ],
      "execution_count": 11,
      "outputs": [
        {
          "output_type": "execute_result",
          "data": {
            "text/plain": [
              "'435'"
            ]
          },
          "metadata": {
            "tags": []
          },
          "execution_count": 11
        }
      ]
    },
    {
      "cell_type": "code",
      "metadata": {
        "id": "fDyZR0R97LlX",
        "colab_type": "code",
        "colab": {
          "base_uri": "https://localhost:8080/",
          "height": 34
        },
        "outputId": "d97f6c3f-9457-4b1a-fc53-b043d19f2e0a"
      },
      "source": [
        "line = 'the quick brown fox jumped over a lazy dog'\n",
        "line.find('fox')"
      ],
      "execution_count": 12,
      "outputs": [
        {
          "output_type": "execute_result",
          "data": {
            "text/plain": [
              "16"
            ]
          },
          "metadata": {
            "tags": []
          },
          "execution_count": 12
        }
      ]
    },
    {
      "cell_type": "code",
      "metadata": {
        "id": "BIArRU7l7Llh",
        "colab_type": "code",
        "colab": {
          "base_uri": "https://localhost:8080/",
          "height": 34
        },
        "outputId": "bd5ddb45-f6d8-413b-fc21-2d65ea28c8b2"
      },
      "source": [
        "line.index('fox')"
      ],
      "execution_count": 13,
      "outputs": [
        {
          "output_type": "execute_result",
          "data": {
            "text/plain": [
              "16"
            ]
          },
          "metadata": {
            "tags": []
          },
          "execution_count": 13
        }
      ]
    },
    {
      "cell_type": "code",
      "metadata": {
        "id": "D58dXOqH7Llb",
        "colab_type": "code",
        "colab": {
          "base_uri": "https://localhost:8080/",
          "height": 34
        },
        "outputId": "9ceaf4c3-6eda-478b-fc73-1c329708a78d"
      },
      "source": [
        "line[16:21]"
      ],
      "execution_count": 14,
      "outputs": [
        {
          "output_type": "execute_result",
          "data": {
            "text/plain": [
              "'fox j'"
            ]
          },
          "metadata": {
            "tags": []
          },
          "execution_count": 14
        }
      ]
    },
    {
      "cell_type": "markdown",
      "metadata": {
        "id": "h85MmPIU7Llm",
        "colab_type": "text"
      },
      "source": [
        "The only difference between ``find()`` and ``index()`` is their behavior when the search string is not found; ``find()`` returns ``-1``, while ``index()`` raises a ``ValueError``:"
      ]
    },
    {
      "cell_type": "code",
      "metadata": {
        "id": "_1KC6QOU7Lln",
        "colab_type": "code",
        "colab": {
          "base_uri": "https://localhost:8080/",
          "height": 34
        },
        "outputId": "14fcbd16-8d5f-4472-cff3-fdd4f188101b"
      },
      "source": [
        "line.find('bear')"
      ],
      "execution_count": 15,
      "outputs": [
        {
          "output_type": "execute_result",
          "data": {
            "text/plain": [
              "-1"
            ]
          },
          "metadata": {
            "tags": []
          },
          "execution_count": 15
        }
      ]
    },
    {
      "cell_type": "code",
      "metadata": {
        "id": "L-3u--pe7Lls",
        "colab_type": "code",
        "colab": {
          "base_uri": "https://localhost:8080/",
          "height": 163
        },
        "outputId": "e453559f-d2b6-4eb0-c0b6-7acc1bee762c"
      },
      "source": [
        "line.index('bear')"
      ],
      "execution_count": 16,
      "outputs": [
        {
          "output_type": "error",
          "ename": "ValueError",
          "evalue": "ignored",
          "traceback": [
            "\u001b[0;31m---------------------------------------------------------------------------\u001b[0m",
            "\u001b[0;31mValueError\u001b[0m                                Traceback (most recent call last)",
            "\u001b[0;32m<ipython-input-16-adf599eb4c79>\u001b[0m in \u001b[0;36m<module>\u001b[0;34m()\u001b[0m\n\u001b[0;32m----> 1\u001b[0;31m \u001b[0mline\u001b[0m\u001b[0;34m.\u001b[0m\u001b[0mindex\u001b[0m\u001b[0;34m(\u001b[0m\u001b[0;34m'bear'\u001b[0m\u001b[0;34m)\u001b[0m\u001b[0;34m\u001b[0m\u001b[0;34m\u001b[0m\u001b[0m\n\u001b[0m",
            "\u001b[0;31mValueError\u001b[0m: substring not found"
          ]
        }
      ]
    },
    {
      "cell_type": "code",
      "metadata": {
        "id": "broQs8Q27Ll-",
        "colab_type": "code",
        "colab": {
          "base_uri": "https://localhost:8080/",
          "height": 34
        },
        "outputId": "4383b25f-612c-48a8-aee4-4483ffa8e825"
      },
      "source": [
        "line.partition('fox')"
      ],
      "execution_count": 17,
      "outputs": [
        {
          "output_type": "execute_result",
          "data": {
            "text/plain": [
              "('the quick brown ', 'fox', ' jumped over a lazy dog')"
            ]
          },
          "metadata": {
            "tags": []
          },
          "execution_count": 17
        }
      ]
    },
    {
      "cell_type": "markdown",
      "metadata": {
        "id": "52RL7jri7Ll_",
        "colab_type": "text"
      },
      "source": [
        "The ``rpartition()`` method is similar, but searches from the right of the string.\n",
        "\n",
        "The ``split()`` method is perhaps more useful; it finds *all* instances of the split-point and returns the substrings in between.\n",
        "The default is to split on any whitespace, returning a list of the individual words in a string:"
      ]
    },
    {
      "cell_type": "code",
      "metadata": {
        "id": "XgNMTET57LmA",
        "colab_type": "code",
        "colab": {
          "base_uri": "https://localhost:8080/",
          "height": 34
        },
        "outputId": "d31ce8a6-23d5-422b-90c0-639aea35bd97"
      },
      "source": [
        "line_list = line.split()\n",
        "print(line_list)"
      ],
      "execution_count": 18,
      "outputs": [
        {
          "output_type": "stream",
          "text": [
            "['the', 'quick', 'brown', 'fox', 'jumped', 'over', 'a', 'lazy', 'dog']\n"
          ],
          "name": "stdout"
        }
      ]
    },
    {
      "cell_type": "code",
      "metadata": {
        "id": "UL5ebfOXzAN-",
        "colab_type": "code",
        "colab": {
          "base_uri": "https://localhost:8080/",
          "height": 34
        },
        "outputId": "6ea7e2a4-ca94-4096-de77-f9cf1f893625"
      },
      "source": [
        "print(line_list[1])"
      ],
      "execution_count": 19,
      "outputs": [
        {
          "output_type": "stream",
          "text": [
            "quick\n"
          ],
          "name": "stdout"
        }
      ]
    },
    {
      "cell_type": "markdown",
      "metadata": {
        "id": "oG-08k1P7LmC",
        "colab_type": "text"
      },
      "source": [
        "A related method is ``splitlines()``, which splits on newline characters.\n",
        "Let's do this with a Haiku, popularly attributed to the 17th-century poet Matsuo Bashō:"
      ]
    },
    {
      "cell_type": "code",
      "metadata": {
        "id": "Xhoq3dov7LmD",
        "colab_type": "code",
        "colab": {
          "base_uri": "https://localhost:8080/",
          "height": 34
        },
        "outputId": "1bdaff29-e16c-4767-a3da-d6ebb9400f7d"
      },
      "source": [
        "haiku = \"\"\"matsushima-ya\n",
        "aah matsushima-ya\n",
        "matsushima-ya\"\"\"\n",
        "\n",
        "haiku.splitlines()"
      ],
      "execution_count": 20,
      "outputs": [
        {
          "output_type": "execute_result",
          "data": {
            "text/plain": [
              "['matsushima-ya', 'aah matsushima-ya', 'matsushima-ya']"
            ]
          },
          "metadata": {
            "tags": []
          },
          "execution_count": 20
        }
      ]
    },
    {
      "cell_type": "markdown",
      "metadata": {
        "id": "nvAwkkOY7LmF",
        "colab_type": "text"
      },
      "source": [
        "Note that if you would like to undo a ``split()``, you can use the ``join()`` method, which returns a string built from a splitpoint and an iterable:"
      ]
    },
    {
      "cell_type": "code",
      "metadata": {
        "id": "x6dnl1We7LmG",
        "colab_type": "code",
        "colab": {
          "base_uri": "https://localhost:8080/",
          "height": 34
        },
        "outputId": "f79d2935-4dd0-4d95-dfff-9d3e7298efd9"
      },
      "source": [
        "'--'.join(['1', '2', '3'])"
      ],
      "execution_count": 21,
      "outputs": [
        {
          "output_type": "execute_result",
          "data": {
            "text/plain": [
              "'1--2--3'"
            ]
          },
          "metadata": {
            "tags": []
          },
          "execution_count": 21
        }
      ]
    },
    {
      "cell_type": "markdown",
      "metadata": {
        "id": "1AV-VUtK7LmI",
        "colab_type": "text"
      },
      "source": [
        "A common pattern is to use the special character ``\"\\n\"`` (newline) to join together lines that have been previously split, and recover the input:"
      ]
    },
    {
      "cell_type": "code",
      "metadata": {
        "id": "iPGNvfi17LmI",
        "colab_type": "code",
        "colab": {
          "base_uri": "https://localhost:8080/",
          "height": 68
        },
        "outputId": "d0c7fd99-cf19-4ced-a002-1ef5b0a045c0"
      },
      "source": [
        "print(\"\\n\".join(['matsushima-ya', 'aah matsushima-ya', 'matsushima-ya']))"
      ],
      "execution_count": 22,
      "outputs": [
        {
          "output_type": "stream",
          "text": [
            "matsushima-ya\n",
            "aah matsushima-ya\n",
            "matsushima-ya\n"
          ],
          "name": "stdout"
        }
      ]
    },
    {
      "cell_type": "code",
      "metadata": {
        "id": "ATNMLZ1c7LmK",
        "colab_type": "code",
        "colab": {
          "base_uri": "https://localhost:8080/",
          "height": 34
        },
        "outputId": "7b7541f9-8043-46a8-a069-adaf4ebfb278"
      },
      "source": [
        "pi = 3.14159\n",
        "str(pi)"
      ],
      "execution_count": 23,
      "outputs": [
        {
          "output_type": "execute_result",
          "data": {
            "text/plain": [
              "'3.14159'"
            ]
          },
          "metadata": {
            "tags": []
          },
          "execution_count": 23
        }
      ]
    },
    {
      "cell_type": "code",
      "metadata": {
        "id": "IAXuKoSj7LmL",
        "colab_type": "code",
        "colab": {}
      },
      "source": [
        "print (\"The value of pi is \" + pi)"
      ],
      "execution_count": 0,
      "outputs": []
    },
    {
      "cell_type": "markdown",
      "metadata": {
        "id": "lxow04Rc7LmN",
        "colab_type": "text"
      },
      "source": [
        "Pi is a float number so it must be transform to sting."
      ]
    },
    {
      "cell_type": "code",
      "metadata": {
        "id": "n9XHEO0V7LmN",
        "colab_type": "code",
        "colab": {
          "base_uri": "https://localhost:8080/",
          "height": 34
        },
        "outputId": "68c7d61f-f4d8-452f-c4a3-6b7fc666b7aa"
      },
      "source": [
        "print( \"The value of pi is \" + str(pi))"
      ],
      "execution_count": 26,
      "outputs": [
        {
          "output_type": "stream",
          "text": [
            "The value of pi is 3.14159\n"
          ],
          "name": "stdout"
        }
      ]
    },
    {
      "cell_type": "markdown",
      "metadata": {
        "id": "gLxjpyku7LmP",
        "colab_type": "text"
      },
      "source": [
        "A more flexible way to do this is to use *format strings*, which are strings with special markers (noted by curly braces) into which string-formatted values will be inserted.\n",
        "Here is a basic example:"
      ]
    },
    {
      "cell_type": "code",
      "metadata": {
        "id": "TnpyntFp7LmQ",
        "colab_type": "code",
        "colab": {
          "base_uri": "https://localhost:8080/",
          "height": 34
        },
        "outputId": "a1df3966-792b-4cc9-9a0a-7e396feabb3e"
      },
      "source": [
        "\"The value of pi is {}\".format(pi)"
      ],
      "execution_count": 27,
      "outputs": [
        {
          "output_type": "execute_result",
          "data": {
            "text/plain": [
              "'The value of pi is 3.14159'"
            ]
          },
          "metadata": {
            "tags": []
          },
          "execution_count": 27
        }
      ]
    },
    {
      "cell_type": "markdown",
      "metadata": {
        "id": "fwhJjvfvvC_P",
        "colab_type": "text"
      },
      "source": [
        "### Easy regex manipulation!"
      ]
    },
    {
      "cell_type": "code",
      "metadata": {
        "id": "FgEQCSC5vQki",
        "colab_type": "code",
        "colab": {}
      },
      "source": [
        "import re"
      ],
      "execution_count": 0,
      "outputs": []
    },
    {
      "cell_type": "code",
      "metadata": {
        "id": "7xYEVDt77Lmb",
        "colab_type": "code",
        "colab": {}
      },
      "source": [
        "line = 'the quick brown fox jumped over a lazy dog, fox'"
      ],
      "execution_count": 0,
      "outputs": []
    },
    {
      "cell_type": "markdown",
      "metadata": {
        "id": "2ARgmkQP7Lmd",
        "colab_type": "text"
      },
      "source": [
        "With this, we can see that the ``regex.search()`` method operates a lot like ``str.index()`` or ``str.find()``:"
      ]
    },
    {
      "cell_type": "code",
      "metadata": {
        "id": "mAPbNKrk7Lmd",
        "colab_type": "code",
        "colab": {
          "base_uri": "https://localhost:8080/",
          "height": 34
        },
        "outputId": "56e61171-05f9-469e-a0e5-39e86acad4ea"
      },
      "source": [
        "line.index('fox')"
      ],
      "execution_count": 30,
      "outputs": [
        {
          "output_type": "execute_result",
          "data": {
            "text/plain": [
              "16"
            ]
          },
          "metadata": {
            "tags": []
          },
          "execution_count": 30
        }
      ]
    },
    {
      "cell_type": "code",
      "metadata": {
        "id": "PrQPx1bw7Lme",
        "colab_type": "code",
        "colab": {
          "base_uri": "https://localhost:8080/",
          "height": 34
        },
        "outputId": "8c7b5322-f366-4e88-f53e-6f88c6e5af2f"
      },
      "source": [
        "regex = re.compile('fox')\n",
        "match = regex.search(line)\n",
        "match.start()"
      ],
      "execution_count": 31,
      "outputs": [
        {
          "output_type": "execute_result",
          "data": {
            "text/plain": [
              "16"
            ]
          },
          "metadata": {
            "tags": []
          },
          "execution_count": 31
        }
      ]
    },
    {
      "cell_type": "markdown",
      "metadata": {
        "id": "4NlxHgi57Lmg",
        "colab_type": "text"
      },
      "source": [
        "Similarly, the ``regex.sub()`` method operates much like ``str.replace()``:"
      ]
    },
    {
      "cell_type": "code",
      "metadata": {
        "id": "Gx3ieKh47Lmg",
        "colab_type": "code",
        "colab": {
          "base_uri": "https://localhost:8080/",
          "height": 34
        },
        "outputId": "08ec6fbf-d927-4914-9785-44b809becca2"
      },
      "source": [
        "line.replace('fox', 'BEAR')"
      ],
      "execution_count": 43,
      "outputs": [
        {
          "output_type": "execute_result",
          "data": {
            "text/plain": [
              "'the quick brown BEAR jumped over a lazy dog, BEAR'"
            ]
          },
          "metadata": {
            "tags": []
          },
          "execution_count": 43
        }
      ]
    },
    {
      "cell_type": "code",
      "metadata": {
        "id": "Df1ZhHR97Lmi",
        "colab_type": "code",
        "colab": {
          "base_uri": "https://localhost:8080/",
          "height": 34
        },
        "outputId": "80f4cb04-e06a-47a3-8243-717faafa81a3"
      },
      "source": [
        "regex.sub('BEAR', line)"
      ],
      "execution_count": 45,
      "outputs": [
        {
          "output_type": "execute_result",
          "data": {
            "text/plain": [
              "'the quick brown BEAR jumped over a lazy dog, BEAR'"
            ]
          },
          "metadata": {
            "tags": []
          },
          "execution_count": 45
        }
      ]
    },
    {
      "cell_type": "markdown",
      "metadata": {
        "id": "vAj0YV25vro6",
        "colab_type": "text"
      },
      "source": [
        "The following is a table of the repetition markers available for use in regular expressions:\n",
        "\n",
        "| Character | Description | Example |\n",
        "|-----------|-------------|---------|\n",
        "| ``?`` | Match zero or one repetitions of preceding  | ``\"ab?\"`` matches ``\"a\"`` or ``\"ab\"`` |\n",
        "| ``*`` | Match zero or more repetitions of preceding | ``\"ab*\"`` matches ``\"a\"``, ``\"ab\"``, ``\"abb\"``, ``\"abbb\"``... |\n",
        "| ``+`` | Match one or more repetitions of preceding  | ``\"ab+\"`` matches ``\"ab\"``, ``\"abb\"``, ``\"abbb\"``... but not ``\"a\"`` |\n",
        "| ``.`` | Any character | ``.*`` matches everything | \n",
        "| ``{n}`` | Match ``n`` repetitions of preeeding | ``\"ab{2}\"`` matches ``\"abb\"`` |\n",
        "| ``{m,n}`` | Match between ``m`` and ``n`` repetitions of preceding | ``\"ab{2,3}\"`` matches ``\"abb\"`` or ``\"abbb\"`` |"
      ]
    },
    {
      "cell_type": "code",
      "metadata": {
        "id": "aQrRIY4nu_lv",
        "colab_type": "code",
        "colab": {
          "base_uri": "https://localhost:8080/",
          "height": 34
        },
        "outputId": "2e337487-d432-4fc4-eb8b-791a30b3bdd8"
      },
      "source": [
        "bool(re.search(r'ab', \"Boabab\"))"
      ],
      "execution_count": 46,
      "outputs": [
        {
          "output_type": "execute_result",
          "data": {
            "text/plain": [
              "True"
            ]
          },
          "metadata": {
            "tags": []
          },
          "execution_count": 46
        }
      ]
    },
    {
      "cell_type": "code",
      "metadata": {
        "id": "Jl-dqlZ_vBjX",
        "colab_type": "code",
        "colab": {
          "base_uri": "https://localhost:8080/",
          "height": 34
        },
        "outputId": "4ceb1e18-1543-44ed-938a-0e229ef5f84f"
      },
      "source": [
        "bool(re.search(r'.*ma.*', \"Ala ma kota\"))"
      ],
      "execution_count": 47,
      "outputs": [
        {
          "output_type": "execute_result",
          "data": {
            "text/plain": [
              "True"
            ]
          },
          "metadata": {
            "tags": []
          },
          "execution_count": 47
        }
      ]
    },
    {
      "cell_type": "code",
      "metadata": {
        "id": "MzfXrZA1wGvK",
        "colab_type": "code",
        "colab": {
          "base_uri": "https://localhost:8080/",
          "height": 34
        },
        "outputId": "89ab03f0-2981-4dd9-d2d3-86c363919291"
      },
      "source": [
        "bool(re.search(r'.*(psa|kota).*', \"Ala ma kota\"))"
      ],
      "execution_count": 48,
      "outputs": [
        {
          "output_type": "execute_result",
          "data": {
            "text/plain": [
              "True"
            ]
          },
          "metadata": {
            "tags": []
          },
          "execution_count": 48
        }
      ]
    },
    {
      "cell_type": "code",
      "metadata": {
        "id": "QNwLgTchwXfU",
        "colab_type": "code",
        "colab": {
          "base_uri": "https://localhost:8080/",
          "height": 34
        },
        "outputId": "3261ac3e-0cba-43cf-e2e2-3652fa4d5b75"
      },
      "source": [
        "bool(re.search(r'.*(psa|kota).*', \"Ala ma psa\"))"
      ],
      "execution_count": 49,
      "outputs": [
        {
          "output_type": "execute_result",
          "data": {
            "text/plain": [
              "True"
            ]
          },
          "metadata": {
            "tags": []
          },
          "execution_count": 49
        }
      ]
    },
    {
      "cell_type": "code",
      "metadata": {
        "id": "rEfi1FLzwcHa",
        "colab_type": "code",
        "colab": {
          "base_uri": "https://localhost:8080/",
          "height": 34
        },
        "outputId": "50ec0f71-9f40-4d6e-fe3c-ed9e44d09fd8"
      },
      "source": [
        "bool(re.search(r'.*(psa|kota).*', \"Ala ma chomika\"))"
      ],
      "execution_count": 50,
      "outputs": [
        {
          "output_type": "execute_result",
          "data": {
            "text/plain": [
              "False"
            ]
          },
          "metadata": {
            "tags": []
          },
          "execution_count": 50
        }
      ]
    },
    {
      "cell_type": "code",
      "metadata": {
        "id": "FBH8XwJcwf_k",
        "colab_type": "code",
        "colab": {}
      },
      "source": [
        "zdanie = \"Ala ma kota.\"\n",
        "wzor = r'.*' #pasuje do każdego zdania\n",
        "zamiennik = r\"Ala ma psa.\""
      ],
      "execution_count": 0,
      "outputs": []
    },
    {
      "cell_type": "code",
      "metadata": {
        "id": "4_dDCJ1iwy3s",
        "colab_type": "code",
        "colab": {
          "base_uri": "https://localhost:8080/",
          "height": 34
        },
        "outputId": "48ec07ce-4dd2-4f7d-ba76-f0f8c49fc69b"
      },
      "source": [
        "re.sub(wzor, zamiennik, zdanie)"
      ],
      "execution_count": 52,
      "outputs": [
        {
          "output_type": "execute_result",
          "data": {
            "text/plain": [
              "'Ala ma psa.'"
            ]
          },
          "metadata": {
            "tags": []
          },
          "execution_count": 52
        }
      ]
    },
    {
      "cell_type": "code",
      "metadata": {
        "id": "Ouy86Z0txPvr",
        "colab_type": "code",
        "colab": {}
      },
      "source": [
        "wzor = r'(.*)kota.'\n",
        "zamiennik = r\"\\1 psa.\""
      ],
      "execution_count": 0,
      "outputs": []
    },
    {
      "cell_type": "code",
      "metadata": {
        "id": "nKtdRi9bxhww",
        "colab_type": "code",
        "colab": {
          "base_uri": "https://localhost:8080/",
          "height": 34
        },
        "outputId": "120fb6c8-0e22-4e12-9e8a-2ae7fdce9804"
      },
      "source": [
        "re.sub(wzor, zamiennik, zdanie)"
      ],
      "execution_count": 54,
      "outputs": [
        {
          "output_type": "execute_result",
          "data": {
            "text/plain": [
              "'Ala ma  psa.'"
            ]
          },
          "metadata": {
            "tags": []
          },
          "execution_count": 54
        }
      ]
    },
    {
      "cell_type": "code",
      "metadata": {
        "id": "deshsKUaxipk",
        "colab_type": "code",
        "colab": {}
      },
      "source": [
        "wzor = r'(.*)ma(.*)'\n",
        "zamiennik = r\"\\1 posiada \\2\""
      ],
      "execution_count": 0,
      "outputs": []
    },
    {
      "cell_type": "code",
      "metadata": {
        "id": "bSc0LkQDx_z6",
        "colab_type": "code",
        "colab": {
          "base_uri": "https://localhost:8080/",
          "height": 34
        },
        "outputId": "1a66ca9f-f84f-43ed-9830-41b74918fe88"
      },
      "source": [
        "re.sub(wzor, zamiennik, zdanie)"
      ],
      "execution_count": 56,
      "outputs": [
        {
          "output_type": "execute_result",
          "data": {
            "text/plain": [
              "'Ala  posiada  kota.'"
            ]
          },
          "metadata": {
            "tags": []
          },
          "execution_count": 56
        }
      ]
    }
  ]
}